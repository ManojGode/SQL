{
  "nbformat": 4,
  "nbformat_minor": 0,
  "metadata": {
    "colab": {
      "provenance": [],
      "authorship_tag": "ABX9TyNo8VL1OAhrElb1OAwVFbiV",
      "include_colab_link": true
    },
    "kernelspec": {
      "name": "python3",
      "display_name": "Python 3"
    },
    "language_info": {
      "name": "python"
    }
  },
  "cells": [
    {
      "cell_type": "markdown",
      "metadata": {
        "id": "view-in-github",
        "colab_type": "text"
      },
      "source": [
        "<a href=\"https://colab.research.google.com/github/ManojGode/SQL/blob/main/SQL_Assinment.ipynb\" target=\"_parent\"><img src=\"https://colab.research.google.com/assets/colab-badge.svg\" alt=\"Open In Colab\"/></a>"
      ]
    },
    {
      "cell_type": "code",
      "execution_count": null,
      "metadata": {
        "id": "vWmWYBjuiEy_"
      },
      "outputs": [],
      "source": []
    },
    {
      "cell_type": "markdown",
      "source": [
        "###COMPLETE THE FOLLOWING TASKS"
      ],
      "metadata": {
        "id": "kQwZow29iITe"
      }
    },
    {
      "cell_type": "markdown",
      "source": [
        "##1. Return the customer IDs of customers who have spent at least $110 with the staff member who has an ID of 2."
      ],
      "metadata": {
        "id": "ktFDbxC-iMXr"
      }
    },
    {
      "cell_type": "code",
      "source": [
        "SELECT customer_id\n",
        "FROM payment\n",
        "WHERE staff_id = 2\n",
        "GROUP BY customer_id\n",
        "HAVING SUM(amount) >= 110"
      ],
      "metadata": {
        "id": "f8YCs1naied6"
      },
      "execution_count": null,
      "outputs": []
    },
    {
      "cell_type": "markdown",
      "source": [
        "##2. How many films begin with the letter J?"
      ],
      "metadata": {
        "id": "NAy1XB_GiSyz"
      }
    },
    {
      "cell_type": "code",
      "source": [
        "SELECT COUNT(*)\n",
        "FROM film\n",
        "WHERE title LIKE 'J%'"
      ],
      "metadata": {
        "id": "XuA7UMMxis4p"
      },
      "execution_count": null,
      "outputs": []
    },
    {
      "cell_type": "markdown",
      "source": [
        "##3. What customer has the highest customer ID number whose name starts with an 'E' and has an address ID lower than 500?"
      ],
      "metadata": {
        "id": "vknT6f41iYAL"
      }
    },
    {
      "cell_type": "code",
      "source": [
        "SELECT customer_id, first_name, last_name, address_id\n",
        "FROM customer\n",
        "WHERE address_id<500 AND first_name LIKE'E%'\n",
        "ORDER BY customer_id DESC"
      ],
      "metadata": {
        "id": "0SsaaSxcizXr"
      },
      "execution_count": null,
      "outputs": []
    },
    {
      "cell_type": "code",
      "source": [],
      "metadata": {
        "id": "uY0PjI87idaT"
      },
      "execution_count": null,
      "outputs": []
    }
  ]
}